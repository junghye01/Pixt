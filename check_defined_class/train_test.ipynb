{
 "cells": [
  {
   "cell_type": "code",
   "execution_count": 1,
   "metadata": {},
   "outputs": [],
   "source": [
    "import sys\n",
    "\n",
    "sys.path.append(\"c:\\pixt\")\n",
    "\n",
    "from dataset import Pixt_Dataset, Pixt_Test_Dataset\n",
    "from dataset.transform import Pixt_ImageTransform, Pixt_TextTransform, Pixt_TargetTransform\n",
    "from metrics import Accuracy\n",
    "\n",
    "import torch\n",
    "import torch.nn as nn\n",
    "import torch.optim as optim\n",
    "from torch.utils.data import DataLoader\n",
    "\n",
    "import clip\n",
    "from tqdm import tqdm\n",
    "from PIL import Image\n",
    "\n",
    "from loss import MultiLabelSoftMarginLoss\n",
    "from metrics import Accuracy\n",
    "from module import BaselineLitModule"
   ]
  },
  {
   "attachments": {},
   "cell_type": "markdown",
   "metadata": {},
   "source": [
    "# train dataset class instance"
   ]
  },
  {
   "cell_type": "code",
   "execution_count": 2,
   "metadata": {},
   "outputs": [],
   "source": [
    "img_dir = \".././data/\"\n",
    "train_annotation_dir = \".././data/annotation/annotation_merged_remove_gap/train.csv\"\n",
    "valid_annotation_dir = \".././data/annotation/annotation_merged_remove_gap/valid.csv\"\n",
    "image_transform = Pixt_ImageTransform()\n",
    "train_dataset = Pixt_Dataset(img_dir, train_annotation_dir, image_transform)\n",
    "valid_dataset = Pixt_Dataset(img_dir, valid_annotation_dir, image_transform)"
   ]
  },
  {
   "attachments": {},
   "cell_type": "markdown",
   "metadata": {},
   "source": [
    "# train dataloader class instance"
   ]
  },
  {
   "cell_type": "code",
   "execution_count": 3,
   "metadata": {},
   "outputs": [],
   "source": [
    "text_transform = Pixt_TextTransform(\n",
    "    max_length=300,\n",
    "    classes_ko_dir=\"c:\\\\pixt\\\\data\\\\annotation\\\\annotation_merged_remove_gap\\\\all_class_list_ko.pt\",\n",
    "    classes_en_dir=\"c:\\\\pixt\\\\data\\\\annotation\\\\annotation_merged_remove_gap\\\\all_class_list_en.pt\",\n",
    ")\n",
    "target_transform = Pixt_TargetTransform(max_length=300)\n",
    "\n",
    "def collate_fn(samples):\n",
    "    image_tensor = torch.stack([sample[\"image_tensor\"] for sample in samples], dim=0)\n",
    "    text_dict = text_transform([sample[\"text_ko\"] for sample in samples])\n",
    "    target_tensor = target_transform(text_dict[\"text_en\"], text_dict[\"text_input\"])\n",
    "\n",
    "    input_data = text_dict\n",
    "    text_dict[\"image_tensor\"] = image_tensor\n",
    "    text_dict[\"target_tensor\"] = target_tensor\n",
    "    return input_data"
   ]
  },
  {
   "cell_type": "code",
   "execution_count": 4,
   "metadata": {},
   "outputs": [],
   "source": [
    "train_dataloader = DataLoader(\n",
    "    dataset=train_dataset,\n",
    "    shuffle=False,\n",
    "    drop_last=True,\n",
    "    num_workers=0,\n",
    "    batch_size=1,\n",
    "    persistent_workers=False,\n",
    "    collate_fn=collate_fn\n",
    ")\n",
    "valid_dataloader = DataLoader(\n",
    "    dataset=valid_dataset,\n",
    "    shuffle=False,\n",
    "    drop_last=True,\n",
    "    num_workers=0,\n",
    "    batch_size=16,\n",
    "    persistent_workers=False,\n",
    "    collate_fn=collate_fn\n",
    ")"
   ]
  },
  {
   "cell_type": "markdown",
   "metadata": {},
   "source": [
    "# train"
   ]
  },
  {
   "cell_type": "code",
   "execution_count": 32,
   "metadata": {},
   "outputs": [],
   "source": [
    "device = \"cuda\" if torch.cuda.is_available() else \"cpu\"\n",
    "model, _ = clip.load(\"RN50\", device=device)\n",
    "\n",
    "# base_loss = MultiLabelSoftMarginLoss(base_loss_weight=1)\n",
    "# accuracy = Accuracy()\n",
    "\n",
    "# lit_module = BaselineLitModule(\n",
    "#     clip_model=model,\n",
    "#     base_loss_func=base_loss,\n",
    "#     accuracy=accuracy,\n",
    "#     optim=torch.optim.Adam,\n",
    "#     lr=5.0e-05,\n",
    "# )\n",
    "# # all models RN50\n",
    "# # original dataset & learning rate 1.0e-06\n",
    "# ckpt_path_0 = \"c:/pixt/outputs/pixt_baseline/lightning_logs/version_0/epoch=50-step=17340.ckpt\"\n",
    "# # remove mgf dataset & learning rate 1.0e-06\n",
    "# ckpt_path_1 = \"c:/pixt/outputs/pixt_baseline/lightning_logs/version_1/epoch=76-step=22715.ckpt\"\n",
    "# # original dataset & learning rate 5.0e-05\n",
    "# ckpt_path_2 = \"c:/pixt/outputs/pixt_baseline/lightning_logs/version_2/epoch=83-step=28560.ckpt\"\n",
    "# # remove mgf dataset & learning rate 5.0e-05\n",
    "# ckpt_path_3 = \"c:/pixt/outputs/pixt_baseline/lightning_logs/version_3/epoch=40-step=12095.ckpt\"\n",
    "\n",
    "# ckpt_path_4 = \"c:/pixt/outputs/pixt_baseline/lightning_logs/version_4/epoch=19-step=109080.ckpt\"\n",
    "\n",
    "# lit_module.load_state_dict(torch.load(ckpt_path_4)[\"state_dict\"])\n",
    "# model = lit_module._clip_model"
   ]
  },
  {
   "cell_type": "code",
   "execution_count": 33,
   "metadata": {},
   "outputs": [],
   "source": [
    "model.visual.conv1.weight.grad"
   ]
  },
  {
   "cell_type": "code",
   "execution_count": 34,
   "metadata": {},
   "outputs": [],
   "source": [
    "loss_func = nn.MultiLabelSoftMarginLoss()\n",
    "loss_func = nn.MSELoss()\n",
    "accuracy = Accuracy()\n",
    "optimizer = optim.Adam(model.parameters(),lr=1e-3,betas=(0.9,0.98),eps=1e-6,weight_decay=0.2) "
   ]
  },
  {
   "cell_type": "code",
   "execution_count": 35,
   "metadata": {},
   "outputs": [
    {
     "name": "stderr",
     "output_type": "stream",
     "text": [
      "  0%|          | 0/5454 [00:06<?, ?it/s]\n"
     ]
    },
    {
     "name": "stdout",
     "output_type": "stream",
     "text": [
      "0 tensor(0.0634, device='cuda:0', grad_fn=<MseLossBackward0>)\n",
      "similarity true tensor(0.1932, device='cuda:0', grad_fn=<MeanBackward0>)\n",
      "similarity false tensor(0.1896, device='cuda:0', grad_fn=<MeanBackward0>)\n"
     ]
    },
    {
     "name": "stderr",
     "output_type": "stream",
     "text": [
      "  0%|          | 0/5454 [00:00<?, ?it/s]"
     ]
    },
    {
     "name": "stdout",
     "output_type": "stream",
     "text": [
      "1 tensor(0.0467, device='cuda:0', grad_fn=<MseLossBackward0>)\n",
      "similarity true tensor(0., device='cuda:0', grad_fn=<MeanBackward0>)\n",
      "similarity false tensor(0., device='cuda:0', grad_fn=<MeanBackward0>)\n"
     ]
    },
    {
     "name": "stderr",
     "output_type": "stream",
     "text": [
      "  0%|          | 0/5454 [00:06<?, ?it/s]\n",
      "  0%|          | 0/5454 [00:06<?, ?it/s]\n"
     ]
    },
    {
     "name": "stdout",
     "output_type": "stream",
     "text": [
      "2 tensor(0.0467, device='cuda:0', grad_fn=<MseLossBackward0>)\n",
      "similarity true tensor(0., device='cuda:0', grad_fn=<MeanBackward0>)\n",
      "similarity false tensor(0., device='cuda:0', grad_fn=<MeanBackward0>)\n"
     ]
    },
    {
     "name": "stderr",
     "output_type": "stream",
     "text": [
      "  0%|          | 0/5454 [00:06<?, ?it/s]\n"
     ]
    },
    {
     "ename": "KeyboardInterrupt",
     "evalue": "",
     "output_type": "error",
     "traceback": [
      "\u001b[1;31m---------------------------------------------------------------------------\u001b[0m",
      "\u001b[1;31mKeyboardInterrupt\u001b[0m                         Traceback (most recent call last)",
      "Cell \u001b[1;32mIn[35], line 25\u001b[0m\n\u001b[0;32m     22\u001b[0m \u001b[39m# acc = accuracy(similarity, text_en, text_input)\u001b[39;00m\n\u001b[0;32m     24\u001b[0m optimizer\u001b[39m.\u001b[39mzero_grad()\n\u001b[1;32m---> 25\u001b[0m loss\u001b[39m.\u001b[39;49mbackward()\n\u001b[0;32m     26\u001b[0m optimizer\u001b[39m.\u001b[39mstep()\n\u001b[0;32m     27\u001b[0m \u001b[39mprint\u001b[39m(epoch, loss)\n",
      "File \u001b[1;32mc:\\Users\\user\\anaconda3\\envs\\pixt\\lib\\site-packages\\torch\\_tensor.py:396\u001b[0m, in \u001b[0;36mTensor.backward\u001b[1;34m(self, gradient, retain_graph, create_graph, inputs)\u001b[0m\n\u001b[0;32m    387\u001b[0m \u001b[39mif\u001b[39;00m has_torch_function_unary(\u001b[39mself\u001b[39m):\n\u001b[0;32m    388\u001b[0m     \u001b[39mreturn\u001b[39;00m handle_torch_function(\n\u001b[0;32m    389\u001b[0m         Tensor\u001b[39m.\u001b[39mbackward,\n\u001b[0;32m    390\u001b[0m         (\u001b[39mself\u001b[39m,),\n\u001b[1;32m   (...)\u001b[0m\n\u001b[0;32m    394\u001b[0m         create_graph\u001b[39m=\u001b[39mcreate_graph,\n\u001b[0;32m    395\u001b[0m         inputs\u001b[39m=\u001b[39minputs)\n\u001b[1;32m--> 396\u001b[0m torch\u001b[39m.\u001b[39;49mautograd\u001b[39m.\u001b[39;49mbackward(\u001b[39mself\u001b[39;49m, gradient, retain_graph, create_graph, inputs\u001b[39m=\u001b[39;49minputs)\n",
      "File \u001b[1;32mc:\\Users\\user\\anaconda3\\envs\\pixt\\lib\\site-packages\\torch\\autograd\\__init__.py:173\u001b[0m, in \u001b[0;36mbackward\u001b[1;34m(tensors, grad_tensors, retain_graph, create_graph, grad_variables, inputs)\u001b[0m\n\u001b[0;32m    168\u001b[0m     retain_graph \u001b[39m=\u001b[39m create_graph\n\u001b[0;32m    170\u001b[0m \u001b[39m# The reason we repeat same the comment below is that\u001b[39;00m\n\u001b[0;32m    171\u001b[0m \u001b[39m# some Python versions print out the first line of a multi-line function\u001b[39;00m\n\u001b[0;32m    172\u001b[0m \u001b[39m# calls in the traceback and some print out the last line\u001b[39;00m\n\u001b[1;32m--> 173\u001b[0m Variable\u001b[39m.\u001b[39;49m_execution_engine\u001b[39m.\u001b[39;49mrun_backward(  \u001b[39m# Calls into the C++ engine to run the backward pass\u001b[39;49;00m\n\u001b[0;32m    174\u001b[0m     tensors, grad_tensors_, retain_graph, create_graph, inputs,\n\u001b[0;32m    175\u001b[0m     allow_unreachable\u001b[39m=\u001b[39;49m\u001b[39mTrue\u001b[39;49;00m, accumulate_grad\u001b[39m=\u001b[39;49m\u001b[39mTrue\u001b[39;49;00m)\n",
      "\u001b[1;31mKeyboardInterrupt\u001b[0m: "
     ]
    }
   ],
   "source": [
    "sim = torch.nn.CosineSimilarity()\n",
    "epochs =100\n",
    "for epoch in range(epochs):\n",
    "    model.train()\n",
    "    for batch in tqdm(train_dataloader):\n",
    "        image_tensor = batch[\"image_tensor\"].to(device)\n",
    "        text_ko = batch[\"text_ko\"]\n",
    "        text_en = batch[\"text_en\"]\n",
    "        text_input = batch[\"text_input\"]\n",
    "        text_tensor = batch[\"text_tensor\"].to(device)\n",
    "        target_tensor = batch[\"target_tensor\"].to(device)\n",
    "\n",
    "        image_features = model.encode_image(image_tensor)\n",
    "        text_features = model.encode_text(text_tensor)\n",
    "        similarity = sim(image_features, text_features)\n",
    "        # image_features = image_features / image_features.norm(dim=-1, keepdim=True)\n",
    "        # text_features = text_features / text_features.norm(dim=-1, keepdim=True)\n",
    "        # similarity = image_features @ text_features.T\n",
    "        similarity = similarity.float()\n",
    "        target_tensor = target_tensor.float()\n",
    "        loss = loss_func(similarity, target_tensor)\n",
    "        # acc = accuracy(similarity, text_en, text_input)\n",
    "\n",
    "        optimizer.zero_grad()\n",
    "        loss.backward()\n",
    "        optimizer.step()\n",
    "        print(epoch, loss)\n",
    "#        print(torch.mean(model.visual.conv1.weight.grad))\n",
    "        print('similarity true', torch.mean(similarity[:14]))\n",
    "        print('similarity false', torch.mean(similarity[14:28]))\n",
    "\n",
    "        break\n",
    "    # model.eval()\n",
    "    # for batch in tqdm(valid_dataloader):\n",
    "    #     image_tensor = batch[\"image_tensor\"].to(device)\n",
    "    #     text_ko = batch[\"text_ko\"]\n",
    "    #     text_en = batch[\"text_en\"]\n",
    "    #     text_input = batch[\"text_input\"]\n",
    "    #     text_tensor = batch[\"text_tensor\"].to(device)\n",
    "    #     target_tensor = batch[\"target_tensor\"].to(device)\n",
    "\n",
    "    #     image_features = model.encode_image(image_tensor)\n",
    "    #     text_features = model.encode_text(text_tensor)\n",
    "    #     image_features = image_features / image_features.norm(dim=-1, keepdim=True)\n",
    "    #     text_features = text_features / text_features.norm(dim=-1, keepdim=True)\n",
    "    #     similarity = image_features @ text_features.T\n",
    "\n",
    "    #     loss = loss_func(similarity, target_tensor)\n",
    "    #     acc = accuracy(similarity, text_en, text_input)\n",
    "    #     break\n",
    "    # break"
   ]
  },
  {
   "cell_type": "code",
   "execution_count": 24,
   "metadata": {},
   "outputs": [
    {
     "data": {
      "text/plain": [
       "(tensor([49406,   320,  1125,   539,   320,  1901,  3750, 49407,     0,     0],\n",
       "        device='cuda:0', dtype=torch.int32),\n",
       " tensor([49406,   320,  1125,   539,   320, 11489, 49407,     0,     0,     0],\n",
       "        device='cuda:0', dtype=torch.int32))"
      ]
     },
     "execution_count": 24,
     "metadata": {},
     "output_type": "execute_result"
    }
   ],
   "source": [
    "text_tensor[0][:10] , text_tensor[2][:10]"
   ]
  },
  {
   "cell_type": "code",
   "execution_count": 25,
   "metadata": {},
   "outputs": [
    {
     "data": {
      "text/plain": [
       "tensor([[-0.1621,  1.7803,  0.1146,  ...,  0.8813, -0.1995, -1.1270],\n",
       "        [-0.1570,  1.6768,  0.3010,  ...,  1.7754, -0.1083, -1.1777],\n",
       "        [-0.0588,  1.7988, -0.2881,  ...,  0.6582, -0.8076, -1.4912],\n",
       "        ...,\n",
       "        [-0.1108,  1.8359,  0.0908,  ...,  1.6758, -0.3726, -1.1572],\n",
       "        [ 0.0410,  1.8467, -0.0949,  ...,  0.6787, -0.2791, -0.7520],\n",
       "        [-0.1907,  2.7988, -0.0188,  ...,  1.1338,  0.1713, -1.5039]],\n",
       "       device='cuda:0', dtype=torch.float16, grad_fn=<MmBackward0>)"
      ]
     },
     "execution_count": 25,
     "metadata": {},
     "output_type": "execute_result"
    }
   ],
   "source": [
    "text_features"
   ]
  },
  {
   "cell_type": "code",
   "execution_count": null,
   "metadata": {},
   "outputs": [],
   "source": [
    "torch.nn.CosineSimilarity()(image_features ,  text_features)"
   ]
  },
  {
   "cell_type": "code",
   "execution_count": null,
   "metadata": {},
   "outputs": [],
   "source": [
    "similarity"
   ]
  },
  {
   "cell_type": "code",
   "execution_count": null,
   "metadata": {},
   "outputs": [],
   "source": [
    "target_tensor"
   ]
  },
  {
   "cell_type": "code",
   "execution_count": null,
   "metadata": {},
   "outputs": [],
   "source": [
    "device = \"cuda\" if torch.cuda.is_available() else \"cpu\"\n",
    "model, _ = clip.load(\"RN50\", device=device)\n",
    "\n",
    "base_loss = MultiLabelSoftMarginLoss(base_loss_weight=1)\n",
    "accuracy = Accuracy()\n",
    "\n",
    "lit_module = BaselineLitModule(\n",
    "    clip_model=model,\n",
    "    base_loss_func=base_loss,\n",
    "    accuracy=accuracy,\n",
    "    optim=torch.optim.Adam,\n",
    "    lr=5.0e-05,\n",
    ")\n",
    "# all models RN50\n",
    "# original dataset & learning rate 1.0e-06\n",
    "ckpt_path_0 = \"c:/pixt/outputs/pixt_baseline/lightning_logs/version_0/epoch=50-step=17340.ckpt\"\n",
    "# remove mgf dataset & learning rate 1.0e-06\n",
    "ckpt_path_1 = \"c:/pixt/outputs/pixt_baseline/lightning_logs/version_1/epoch=76-step=22715.ckpt\"\n",
    "# original dataset & learning rate 5.0e-05\n",
    "ckpt_path_2 = \"c:/pixt/outputs/pixt_baseline/lightning_logs/version_2/epoch=83-step=28560.ckpt\"\n",
    "# remove mgf dataset & learning rate 5.0e-05\n",
    "ckpt_path_3 = \"c:/pixt/outputs/pixt_baseline/lightning_logs/version_3/epoch=40-step=12095.ckpt\"\n",
    "\n",
    "ckpt_path_4 = \"c:/pixt/outputs/pixt_baseline/lightning_logs/version_4/epoch=19-step=109080.ckpt\"\n",
    "\n",
    "lit_module.load_state_dict(torch.load(ckpt_path_3)[\"state_dict\"])\n",
    "model = lit_module._clip_model\n",
    "model"
   ]
  },
  {
   "cell_type": "markdown",
   "metadata": {},
   "source": [
    "# test"
   ]
  },
  {
   "cell_type": "code",
   "execution_count": null,
   "metadata": {},
   "outputs": [],
   "source": [
    "img_dir = \".././data/\"\n",
    "image_transform = Pixt_ImageTransform()\n",
    "test_dataset = Pixt_Test_Dataset(img_dir, image_transform)"
   ]
  },
  {
   "cell_type": "code",
   "execution_count": null,
   "metadata": {},
   "outputs": [],
   "source": [
    "test_dataloader = DataLoader(\n",
    "    dataset=test_dataset,\n",
    "    shuffle=False,\n",
    "    drop_last=False,\n",
    "    num_workers=0,\n",
    "    batch_size=1,\n",
    "    persistent_workers=False,\n",
    ")\n",
    "image_tensor = None\n",
    "for batch in test_dataloader:\n",
    "    image_filename = batch[\"image_filename\"]\n",
    "    image_tensor = batch[\"image_tensor\"]\n",
    "    print(image_filename, image_tensor.shape)\n",
    "    break"
   ]
  },
  {
   "cell_type": "code",
   "execution_count": null,
   "metadata": {},
   "outputs": [],
   "source": [
    "with torch.no_grad():\n",
    "    image_features = model.encode_image(image_tensor)\n",
    "    text_features = model.encode_text(text_tensor)\n",
    "image_features.shape, text_features.shape"
   ]
  },
  {
   "cell_type": "code",
   "execution_count": null,
   "metadata": {},
   "outputs": [],
   "source": [
    "classes_list = torch.load(\".././data/annotation/all_class_list_en.pt\")\n",
    "classes_list = [tag_ko.lower() for tag_ko in classes_list]\n",
    "classes_list = sorted(set(classes_list))\n",
    "text_input = torch.cat([clip.tokenize(f\"a photo of a {c}\") for c in classes_list]).to(device)\n",
    "\n",
    "image_number = 1\n",
    "file_path = \".././data/dataset3/\"+ str(image_number) + \".webp\"\n",
    "print(file_path)\n",
    "Image.open(file_path).show()\n",
    "\n",
    "Image_transform = Pixt_ImageTransform()\n",
    "image_input = Image_transform(Image.open(file_path).convert(\"RGB\")).float().unsqueeze(0).to(device)\n",
    "print(image_input.shape, text_input.shape)\n",
    "\n",
    "with torch.no_grad():\n",
    "    image_features = model.encode_image(image_input)\n",
    "    text_features = model.encode_text(text_input)\n",
    "image_features.shape, text_features.shape"
   ]
  },
  {
   "cell_type": "code",
   "execution_count": null,
   "metadata": {},
   "outputs": [],
   "source": [
    "image_features /= image_features.norm(dim=-1, keepdim=True)\n",
    "text_features /= text_features.norm(dim=-1, keepdim=True)\n",
    "image_features.shape, text_features.shape"
   ]
  },
  {
   "cell_type": "code",
   "execution_count": null,
   "metadata": {},
   "outputs": [],
   "source": [
    "similarity = (100.0 * image_features @ text_features.T).softmax(dim=-1)\n",
    "values, indices = similarity[0].topk(14)\n",
    "\n",
    "classes_ko_list = torch.load(\".././data/annotation/all_class_list_ko.pt\")\n",
    "classes_en_list = torch.load(\".././data/annotation/all_class_list_en.pt\")\n",
    "print(\"\\nTop predictions:\\n\")\n",
    "for value, index in zip(values, indices):\n",
    "    en_word = text_input[index]\n",
    "    print(f\"{en_word:>16s}: {100 * value.item():.100f}%\")\n",
    "    # print(classes_ko_list[classes_en_list.index(en_word)])"
   ]
  },
  {
   "cell_type": "code",
   "execution_count": null,
   "metadata": {},
   "outputs": [],
   "source": [
    "(100.0 * image_features @ text_features.T)"
   ]
  },
  {
   "cell_type": "code",
   "execution_count": null,
   "metadata": {},
   "outputs": [],
   "source": [
    "\n",
    "indices"
   ]
  }
 ],
 "metadata": {
  "kernelspec": {
   "display_name": "pixt",
   "language": "python",
   "name": "python3"
  },
  "language_info": {
   "codemirror_mode": {
    "name": "ipython",
    "version": 3
   },
   "file_extension": ".py",
   "mimetype": "text/x-python",
   "name": "python",
   "nbconvert_exporter": "python",
   "pygments_lexer": "ipython3",
   "version": "3.10.11"
  },
  "orig_nbformat": 4
 },
 "nbformat": 4,
 "nbformat_minor": 2
}
